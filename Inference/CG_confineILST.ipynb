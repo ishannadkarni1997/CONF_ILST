{
 "cells": [
  {
   "cell_type": "code",
   "execution_count": 1,
   "id": "86f6ffd9-7e89-40c0-a3b2-3024f319ec14",
   "metadata": {},
   "outputs": [
    {
     "name": "stderr",
     "output_type": "stream",
     "text": [
      "2023-08-31 10:20:13.717504: I tensorflow/core/util/port.cc:110] oneDNN custom operations are on. You may see slightly different numerical results due to floating-point round-off errors from different computation orders. To turn them off, set the environment variable `TF_ENABLE_ONEDNN_OPTS=0`.\n",
      "2023-08-31 10:20:13.719507: I tensorflow/tsl/cuda/cudart_stub.cc:28] Could not find cuda drivers on your machine, GPU will not be used.\n",
      "2023-08-31 10:20:13.772238: I tensorflow/tsl/cuda/cudart_stub.cc:28] Could not find cuda drivers on your machine, GPU will not be used.\n",
      "2023-08-31 10:20:13.773985: I tensorflow/core/platform/cpu_feature_guard.cc:182] This TensorFlow binary is optimized to use available CPU instructions in performance-critical operations.\n",
      "To enable the following instructions: AVX2 AVX512F AVX512_VNNI FMA, in other operations, rebuild TensorFlow with the appropriate compiler flags.\n",
      "2023-08-31 10:20:14.424419: W tensorflow/compiler/tf2tensorrt/utils/py_utils.cc:38] TF-TRT Warning: Could not find TensorRT\n"
     ]
    }
   ],
   "source": [
    "import pandas as pd\n",
    "import os\n",
    "import glob\n",
    "import numpy as np\n",
    "import tensorflow as tf\n",
    "import matplotlib\n",
    "from tensorflow import keras\n",
    "from keras.models import load_model\n",
    "import sklearn\n",
    "from sklearn.datasets import make_blobs\n",
    "import sys"
   ]
  },
  {
   "cell_type": "markdown",
   "id": "4ded0f71-885c-48e3-ae19-a1517f9b25b3",
   "metadata": {},
   "source": [
    "### Model Import"
   ]
  },
  {
   "cell_type": "code",
   "execution_count": 7,
   "id": "d2f1d77c-82b9-4e89-9990-22d9e90bfbde",
   "metadata": {},
   "outputs": [],
   "source": [
    "model = load_model('/workspace/Ishan/P1_confDeepILST/data_decomp/oldscript/NNdecomp.h5')"
   ]
  },
  {
   "cell_type": "markdown",
   "id": "41fca14e-e14c-456d-a573-fe16401fa76e",
   "metadata": {},
   "source": [
    "### Import COM Mapped AA Force Profiles"
   ]
  },
  {
   "cell_type": "code",
   "execution_count": null,
   "id": "e76ec865-6bf4-430f-a6ad-7f8f0ccf2b3c",
   "metadata": {},
   "outputs": [],
   "source": [
    "path_a = \"/workspace/Ishan/P1_confDeepILST/data_decomp/AAForce/CH4/AAforceWF.txt\"\n",
    "\n",
    "path_b = \"/workspace/Ishan/P1_confDeepILST/data_decomp/AAForce/CH4/AAforceFF.txt\"\n",
    "\n",
    "path_c = \"/workspace/Ishan/P1_confDeepILST/data_decomp/AAForce/CH4/Training_Norm.txt\"\n",
    "\n",
    "def antinormalize(norarray):                                                                                           \n",
    " simarray = norarray * (norm_array[2,1] - norm_array[2,0]) + norm_array[2,0]\n",
    " return simarray\n",
    "\n",
    "csv_files = sorted(glob.glob(path_a))\n",
    "force_list = []\n",
    "for f in csv_files:\n",
    "  g = pd.read_csv(f, delimiter = ' ', skiprows=None, header=None)\n",
    "  force_list.append(g)\n",
    "  WFforce_array = np.array(force_list)     \n",
    "\n",
    "csv_files = sorted(glob.glob(path_b))\n",
    "force_list = []\n",
    "for f in csv_files:\n",
    "  g = pd.read_csv(f, delimiter = ' ', skiprows=None, header=None)\n",
    "  force_list.append(g)\n",
    "  FFforce_array = np.array(force_list)  # array containing force data\n",
    "\n",
    "csv_files = sorted(glob.glob(path_c))\n",
    "norm_list = []\n",
    "for f in csv_files:\n",
    "  g = pd.read_csv(f, delimiter = ' ', header=None, usecols=[0,1], index_col=None)\n",
    "  norm_list.append(g)\n",
    "  norm_array = np.array(norm_list)\n",
    "\n",
    "norm_array = np.squeeze(norm_array) "
   ]
  },
  {
   "cell_type": "markdown",
   "id": "19423892-0470-4280-a1ad-7c64adeb070a",
   "metadata": {},
   "source": [
    "### Inference on Trained Model to get CG parameters"
   ]
  },
  {
   "cell_type": "code",
   "execution_count": 17,
   "id": "c92b7426-dc57-447f-b89e-7b63ae4fa4f1",
   "metadata": {},
   "outputs": [
    {
     "name": "stdout",
     "output_type": "stream",
     "text": [
      "1/1 [==============================] - 0s 25ms/step\n",
      "FF Epsilon: 0.33118653\n",
      "FF Sigma: 3.6058395\n",
      "WF Epsilon: 0.15241715\n",
      "WF Sigma: 3.5902967\n"
     ]
    }
   ],
   "source": [
    "forceWF = WFforce_array[:,:,0]\n",
    "forceFF = FFforce_array[:,:,0]\n",
    "\n",
    "normforceWF = (forceWF - norm_array[0,0] )/(norm_array[0,1] - norm_array[0,0])\n",
    "normforceFF = (forceFF - norm_array[1,0] )/(norm_array[1,1] - norm_array[1,0])\n",
    "\n",
    "X_test= np.concatenate((normforceWF, normforceFF), axis=1)\n",
    "result_test = model.predict(X_test)\n",
    "\n",
    "x = result_test[:,0] * norm_array[3,0]                               \n",
    "y = result_test[:,1]\n",
    "a = result_test[:,2] * norm_array[3,1]                               \n",
    "b = result_test[:,3]  \n",
    "\n",
    "x = x.reshape(len(x),1)\n",
    "y = y.reshape(len(y),1)\n",
    "a = a.reshape(len(a),1)\n",
    "b = b.reshape(len(b),1)\n",
    "\n",
    "z = np.concatenate((x, y, a, b), axis=1) \n",
    "LJ_multiatom = antinormalize(z) \n",
    "\n",
    "print(\"FF Epsilon:\", LJ_multiatom[0,0])\n",
    "print(\"FF Sigma:\", LJ_multiatom[0,1])\n",
    "print(\"WF Epsilon:\", LJ_multiatom[0,2])\n",
    "print(\"WF Sigma:\", LJ_multiatom[0,3])"
   ]
  }
 ],
 "metadata": {
  "kernelspec": {
   "display_name": "Python [conda env:env_confILST] *",
   "language": "python",
   "name": "conda-env-env_confILST-py"
  },
  "language_info": {
   "codemirror_mode": {
    "name": "ipython",
    "version": 3
   },
   "file_extension": ".py",
   "mimetype": "text/x-python",
   "name": "python",
   "nbconvert_exporter": "python",
   "pygments_lexer": "ipython3",
   "version": "3.10.6"
  }
 },
 "nbformat": 4,
 "nbformat_minor": 5
}
